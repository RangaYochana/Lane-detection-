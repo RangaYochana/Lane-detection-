{
  "nbformat": 4,
  "nbformat_minor": 0,
  "metadata": {
    "colab": {
      "provenance": []
    },
    "kernelspec": {
      "name": "python3",
      "display_name": "Python 3"
    },
    "language_info": {
      "name": "python"
    }
  },
  "cells": [
    {
      "cell_type": "code",
      "execution_count": null,
      "metadata": {
        "id": "I4wnMEJSlGbs"
      },
      "outputs": [],
      "source": [
        "import cv2\n",
        "import numpy as np\n",
        "import math"
      ]
    },
    {
      "cell_type": "code",
      "source": [
        "def canny(img):\n",
        "    if img is None:\n",
        "        cap.release()\n",
        "        cv2.destroyAllWindows()\n",
        "        exit()\n",
        "    gray = cv2.cvtColor(img, cv2.COLOR_BGR2GRAY)\n",
        "    kernel = 5\n",
        "    blur = cv2.GaussianBlur(gray, (kernel, kernel), 0)\n",
        "    # Adjust Canny edge detection thresholds\n",
        "    canny = cv2.Canny(blur, 30, 120)  # Lower the thresholds\n",
        "    return canny\n",
        "# Adjust 'make_points' to reduce offset\n",
        "'''def make_points(image, line):\n",
        "    slope, intercept = line\n",
        "    if slope == 0:  # Avoid division by zero\n",
        "        slope = 0.1\n",
        "    y1 = int(image.shape[0])  # bottom of the image\n",
        "    y2 = int(y1 * 3.0 / 5)  # slightly lower than the middle\n",
        "    # Recalculate points based on slope and intercept with tighter bounds\n",
        "    x1 = max(0, min(int((y1 - intercept) / slope), image.shape[1]))\n",
        "    x2 = max(0, min(int((y2 - intercept) / slope), image.shape[1]))\n",
        "    return [[x1, y1, x2, y2]]'''\n",
        "def make_points(image, line):\n",
        "    slope, intercept = line\n",
        "    if slope == 0:  # Avoid division by zero\n",
        "        slope = 0.1\n",
        "\n",
        "    y1 = int(image.shape[0])  # Start 85% from the top of the image\n",
        "    y2 = int(image.shape[0] * 0.80)  # End at 70% from the top of the image\n",
        "\n",
        "    # Recalculate points based on slope and intercept\n",
        "    x1 = max(0, min(int((y1 - intercept) / slope), image.shape[1]))\n",
        "    x2 = max(0, min(int((y2 - intercept) / slope), image.shape[1]))\n",
        "\n",
        "    return [[x1, y1, x2, y2]]"
      ],
      "metadata": {
        "id": "irJM-iAglW87"
      },
      "execution_count": null,
      "outputs": []
    },
    {
      "cell_type": "code",
      "source": [
        "def region_of_interest(canny):\n",
        "    height = canny.shape[0]\n",
        "    width = canny.shape[1]\n",
        "    # Adjust the mask to cover more area for detecting distant lanes\n",
        "    mask = np.zeros_like(canny)\n",
        "    triangle = np.array([[\n",
        "        (100, height),  # Left bottom corner, increased width range\n",
        "        (width // 2, height // 2),  # Top center, capture more of the road ahead\n",
        "        (width - 100, height)  # Right bottom corner\n",
        "    ]], np.int32)\n",
        "    cv2.fillPoly(mask, triangle, 255)\n",
        "    masked_image = cv2.bitwise_and(canny, mask)\n",
        "    return masked_image"
      ],
      "metadata": {
        "id": "4EaPiCYxlZ4b"
      },
      "execution_count": null,
      "outputs": []
    },
    {
      "cell_type": "code",
      "source": [
        "def region_of_interest(canny):\n",
        "    height, width = canny.shape[:2]\n",
        "\n",
        "    left_offset = int(width * 0.2)  # 10% from the left\n",
        "    right_offset = int(width * 0.3) # 10% from the right\n",
        "    top_height_ratio = 0.5          # Place the top of the triangle at 50% of the height\n",
        "\n",
        "    triangle = np.array([[\n",
        "        (left_offset, height),               # Left bottom corner\n",
        "        (width // 2, int(height * top_height_ratio)),  # Top center\n",
        "        (width - right_offset, height)       # Right bottom corner\n",
        "    ]], np.int32)\n",
        "\n",
        "    mask = np.zeros_like(canny)\n",
        "    cv2.fillPoly(mask, triangle, 255)\n",
        "    masked_image = cv2.bitwise_and(canny, mask)\n",
        "    return masked_image\n"
      ],
      "metadata": {
        "id": "NjoWaPDZJMy6"
      },
      "execution_count": null,
      "outputs": []
    },
    {
      "cell_type": "code",
      "source": [
        "def region_of_interest(img,polygon):\n",
        "    '''mask = np.zeros_like(img)\n",
        "    x1, y1 = polygon[0]\n",
        "    x2, y2 = polygon[1]\n",
        "    x3, y3 = polygon[2]\n",
        "    x4, y4 = polygon[3]\n",
        "    m1 = (y2-y1)/(x2-x1)\n",
        "    m2 = (y3-y2)/(x3-x2)\n",
        "    m3 = (y4-y3)/(x4-x3)\n",
        "    m4 = (y4-y1)/(x4-x1)\n",
        "    b1 = y1 - m1*x1\n",
        "    b2 = y2 - m2*x2\n",
        "    b3 = y3 - m3*x3\n",
        "    b4 = y4 - m4*x4\n",
        "\n",
        "    for i in range(mask.shape[0]):\n",
        "        for j in range(mask.shape[1]):\n",
        "            if i>=m1*j+b1 and i>=m2*j+b2 and i>=m3*j+b3 and i<=m4*j+b4:\n",
        "                mask[i][j] = 1'''\n",
        "    polygon = np.array([[\n",
        "    (0, height),\n",
        "    (width, height),\n",
        "    (width//2, height//2)\n",
        "]], np.int32)\n",
        "\n",
        "\n",
        "    # Fill the polygon in the mask\n",
        "    cv2.fillPoly(mask, polygon, 255)\n",
        "    '''masked_img = np.multiply(img, mask)'''\n",
        "    masked_img = np.multiply(mask, img)\n",
        "    return masked_img"
      ],
      "metadata": {
        "id": "Pm3tzPidlyDB"
      },
      "execution_count": null,
      "outputs": []
    },
    {
      "cell_type": "code",
      "source": [
        "def houghLines(cropped_canny):\n",
        "    # Tune minLineLength and maxLineGap for better lane detection\n",
        "    return cv2.HoughLinesP(cropped_canny, 2, np.pi/180, 50,\n",
        "                           np.array([]), minLineLength=20, maxLineGap=5)\n",
        "# Overlay lane lines on original frame\n",
        "def add_weighted(frame, line_image):\n",
        "    return cv2.addWeighted(frame, 0.8, line_image, 1, 1)\n",
        "\n",
        "# Function to draw the detected lines on a blank image\n",
        "\n",
        "  # Function to draw the detected lines on a blank image\n",
        "def display_lines(img, lines):\n",
        "    line_image = np.zeros_like(img)\n",
        "    if lines is not None:\n",
        "        for line in lines:\n",
        "            if line is not None: # Added check to skip None values\n",
        "                for x1, y1, x2, y2 in line:\n",
        "                    cv2.line(line_image, (x1, y1), (x2, y2), (0, 255, 0), 10)  # Changed color for clearer visualization\n",
        "    return line_image\n"
      ],
      "metadata": {
        "id": "jf7SrS0hlcSO"
      },
      "execution_count": null,
      "outputs": []
    },
    {
      "cell_type": "code",
      "source": [
        "prev_left_line = None\n",
        "prev_right_line = None\n",
        "def average_slope_intercept(image, lines):\n",
        "    global prev_left_line, prev_right_line\n",
        "    left_fit = []\n",
        "    right_fit = []\n",
        "    if lines is None:\n",
        "        return [prev_left_line, prev_right_line]\n",
        "\n",
        "    # Filter lines with extreme slopes\n",
        "    for line in lines:\n",
        "        for x1, y1, x2, y2 in line:\n",
        "            if x1 == x2:  # Avoid division by zero\n",
        "                continue\n",
        "            slope = (y2 - y1) / (x2 - x1)\n",
        "            intercept = y1 - (slope * x1)\n",
        "\n",
        "            # Filter out extreme slopes (too vertical or horizontal)\n",
        "            if abs(slope) < 0.5 or abs(slope) > 2:  # Tune this range based on video\n",
        "                continue\n",
        "\n",
        "            if slope < 0:  # Negative slope => left lane\n",
        "                left_fit.append((slope, intercept))\n",
        "            else:  # Positive slope => right lane\n",
        "                right_fit.append((slope, intercept))\n",
        "\n",
        "    if left_fit:\n",
        "        left_fit_average = np.average(left_fit, axis=0)\n",
        "        left_line = make_points(image, left_fit_average)\n",
        "        prev_left_line = left_line\n",
        "    else:\n",
        "        left_line = prev_left_line\n",
        "\n",
        "    if right_fit:\n",
        "        right_fit_average = np.average(right_fit, axis=0)\n",
        "        right_line = make_points(image, right_fit_average)\n",
        "        prev_right_line = right_line\n",
        "    else:\n",
        "        right_line = prev_right_line\n",
        "\n",
        "    return [left_line, right_line] if left_line and right_line else None"
      ],
      "metadata": {
        "id": "YSgtYuIxld1F"
      },
      "execution_count": null,
      "outputs": []
    },
    {
      "cell_type": "code",
      "source": [
        "# Main function for video processing\n",
        "cap = cv2.VideoCapture(\"/content/1stinput.mp4\")\n",
        "frame_width = int(cap.get(3))\n",
        "frame_height = int(cap.get(4))\n",
        "\n",
        "fourcc = cv2.VideoWriter_fourcc(*'mp4v')\n",
        "out = cv2.VideoWriter('output_video.mp4', fourcc, 20.0, (frame_width, frame_height))"
      ],
      "metadata": {
        "id": "r8NqeIvTlgQ-"
      },
      "execution_count": null,
      "outputs": []
    },
    {
      "cell_type": "code",
      "source": [
        "while cap.isOpened():\n",
        "    ret, frame = cap.read()\n",
        "\n",
        "    if not ret:\n",
        "        print(\"End of video or error reading frame.\")\n",
        "        break\n",
        "\n",
        "    # Process each frame\n",
        "    canny_image = canny(frame)\n",
        "    height, width = canny_image.shape\n",
        "    polygon = [(int(width*0.1), height), (int(width*0.45), int(height*0.6)), (int(width*0.55), int(height*0.6)), (int(0.95*width), height)]\n",
        "    cropped_canny = region_of_interest(canny_image)\n",
        "    lines = houghLines(cropped_canny)\n",
        "    averaged_lines = average_slope_intercept(frame, lines)\n",
        "    line_image = display_lines(frame, averaged_lines)\n",
        "    combo_image = add_weighted(frame, line_image)\n",
        "\n",
        "    # Save the output\n",
        "    out.write(combo_image)\n",
        "cap.release()\n",
        "out.release()\n",
        "cv2.destroyAllWindows()"
      ],
      "metadata": {
        "id": "veRXYhJ4mYSm",
        "colab": {
          "base_uri": "https://localhost:8080/"
        },
        "outputId": "adfe7f5e-ed53-458f-c841-577bffcbbd14"
      },
      "execution_count": null,
      "outputs": [
        {
          "output_type": "stream",
          "name": "stdout",
          "text": [
            "End of video or error reading frame.\n"
          ]
        }
      ]
    },
    {
      "cell_type": "code",
      "source": [],
      "metadata": {
        "id": "Wm2yIou1JuHC"
      },
      "execution_count": null,
      "outputs": []
    }
  ]
}